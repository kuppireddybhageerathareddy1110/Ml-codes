{
 "cells": [
  {
   "cell_type": "code",
   "execution_count": null,
   "id": "9d6b9a93-5abe-4c4e-a59b-d0b39c6849eb",
   "metadata": {},
   "outputs": [],
   "source": [
    "print(\"KUPPIREDDY BHAGEERATHA REDDY\")\n",
    "print(\"22B"
   ]
  },
  {
   "cell_type": "code",
   "execution_count": 1,
   "id": "07e524f7-cde4-4294-b822-7b7977c8e152",
   "metadata": {},
   "outputs": [
    {
     "name": "stdout",
     "output_type": "stream",
     "text": [
      "Root Mean Squared Error (RMSE): 2268.216098631897\n",
      "Model Coefficients: [2716.4868386  2126.92037616 1612.77951649]\n",
      "Model Intercept: 20722.331847729416\n",
      "Predicted salary for 2 years experience, 9 test score, and 6 interview score: $54974.27\n",
      "Predicted salary for 15 years experience, 9 test score, and 3 interview score: $85450.26\n"
     ]
    }
   ],
   "source": [
    "import pandas as pd\n",
    "from sklearn.linear_model import LinearRegression\n",
    "from sklearn.model_selection import train_test_split\n",
    "from sklearn.metrics import mean_squared_error\n",
    "import numpy as np\n",
    "\n",
    "# Step 1: Load the dataset\n",
    "df = pd.read_csv(\"Hiring.csv\")\n",
    "\n",
    "# Step 2: Preprocess the data\n",
    "# Map text to numeric values for the 'experience' column\n",
    "experience_mapping = {'zero': 0, 'one': 1, 'two': 2, 'three': 3, 'four': 4, \n",
    "                      'five': 5, 'six': 6, 'seven': 7, 'eight': 8, 'nine': 9, \n",
    "                      'ten': 10, 'eleven': 11}\n",
    "df['experience'] = df['experience'].map(experience_mapping).fillna(0).astype(int)\n",
    "\n",
    "# Fill missing values for test and interview scores with the mean value\n",
    "df['test_score(out of 10)'] = df['test_score(out of 10)'].fillna(df['test_score(out of 10)'].mean())\n",
    "df['interview_score(out of 10)'] = df['interview_score(out of 10)'].fillna(df['interview_score(out of 10)'].mean())\n",
    "\n",
    "# Step 3: Define features and target variable\n",
    "X = df[['experience', 'test_score(out of 10)', 'interview_score(out of 10)']]\n",
    "y = df['salary($)']\n",
    "\n",
    "# Step 4: Split the data into training and testing sets\n",
    "X_train, X_test, y_train, y_test = train_test_split(X, y, test_size=0.2, random_state=42)\n",
    "\n",
    "# Step 5: Create and train the model\n",
    "model = LinearRegression()\n",
    "model.fit(X_train, y_train)\n",
    "\n",
    "# Predict on the test set\n",
    "y_pred = model.predict(X_test)\n",
    "\n",
    "# Evaluate the model\n",
    "mse = mean_squared_error(y_test, y_pred)\n",
    "rmse = np.sqrt(mse)\n",
    "model_coefs = model.coef_\n",
    "model_intercept = model.intercept_\n",
    "\n",
    "print(f'Root Mean Squared Error (RMSE): {rmse}')\n",
    "print(f'Model Coefficients: {model_coefs}')\n",
    "print(f'Model Intercept: {model_intercept}')\n",
    "\n",
    "# Step 6: Make predictions for new candidates\n",
    "input_data = pd.DataFrame({\n",
    "    'experience': [2, 15],\n",
    "    'test_score(out of 10)': [9, 9],\n",
    "    'interview_score(out of 10)': [6, 3]\n",
    "})\n",
    "\n",
    "# Predicting the salaries\n",
    "predicted_salaries = model.predict(input_data)\n",
    "print(f'Predicted salary for 2 years experience, 9 test score, and 6 interview score: ${predicted_salaries[0]:.2f}')\n",
    "print(f'Predicted salary for 15 years experience, 9 test score, and 3 interview score: ${predicted_salaries[1]:.2f}')\n"
   ]
  },
  {
   "cell_type": "code",
   "execution_count": null,
   "id": "34050c04-cc2c-4702-8cb6-ebb67b61ee71",
   "metadata": {},
   "outputs": [],
   "source": []
  }
 ],
 "metadata": {
  "kernelspec": {
   "display_name": "Python 3 (ipykernel)",
   "language": "python",
   "name": "python3"
  },
  "language_info": {
   "codemirror_mode": {
    "name": "ipython",
    "version": 3
   },
   "file_extension": ".py",
   "mimetype": "text/x-python",
   "name": "python",
   "nbconvert_exporter": "python",
   "pygments_lexer": "ipython3",
   "version": "3.12.4"
  }
 },
 "nbformat": 4,
 "nbformat_minor": 5
}
