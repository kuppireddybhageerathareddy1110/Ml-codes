{
 "cells": [
  {
   "cell_type": "code",
   "execution_count": 1,
   "id": "300f28d1-2c51-4cc9-a56f-34d54d444462",
   "metadata": {},
   "outputs": [
    {
     "name": "stdout",
     "output_type": "stream",
     "text": [
      "KUPPIREDDY BHAGEERATHA REDDY\n",
      "22BCE20355\n"
     ]
    }
   ],
   "source": [
    "print(\"KUPPIREDDY BHAGEERATHA REDDY\")\n",
    "print(\"22BCE20355\")"
   ]
  },
  {
   "cell_type": "code",
   "execution_count": 2,
   "id": "d5e21c3a-6028-4dda-9887-6435cedca976",
   "metadata": {},
   "outputs": [
    {
     "name": "stdout",
     "output_type": "stream",
     "text": [
      "Mode result: ModeResult(mode=86, count=3)\n",
      "Mean: 88.0\n",
      "Median: 86.5\n",
      "Mode: 86\n",
      "Mode Count: 3\n",
      "Standard Deviation: 7.543811431172634\n",
      "Variance: 56.90909090909091\n"
     ]
    }
   ],
   "source": [
    "import numpy as np\n",
    "from scipy import stats\n",
    "\n",
    "data = [99, 86, 87, 88, 86, 103, 87, 94, 78, 77, 85, 86]\n",
    "\n",
    "mean = np.mean(data)\n",
    "median = np.median(data)\n",
    "mode_result = stats.mode(data)\n",
    "\n",
    "print(f\"Mode result: {mode_result}\")\n",
    "\n",
    "std_dev = np.std(data, ddof=1)  # Sample standard deviation\n",
    "variance = np.var(data, ddof=1)  # Sample variance\n",
    "\n",
    "print(f\"Mean: {mean}\")\n",
    "print(f\"Median: {median}\")\n",
    "print(f\"Mode: {mode_result.mode}\")\n",
    "print(f\"Mode Count: {mode_result.count}\")\n",
    "print(f\"Standard Deviation: {std_dev}\")\n",
    "print(f\"Variance: {variance}\")\n",
    "\n"
   ]
  },
  {
   "cell_type": "code",
   "execution_count": 3,
   "id": "284d02aa-7822-4cac-8192-18b0891d64ba",
   "metadata": {},
   "outputs": [
    {
     "data": {
      "image/png": "[encoded data removed]",
      "text/plain": [
       "<Figure size 640x480 with 1 Axes>"
      ]
     },
     "metadata": {},
     "output_type": "display_data"
    }
   ],
   "source": [
    "import numpy as np\n",
    "import matplotlib.pyplot as plt\n",
    "\n",
    "mean = 0\n",
    "std_dev = 1\n",
    "size = 1000\n",
    "\n",
    "data = np.random.normal(mean, std_dev, size)\n",
    "\n",
    "plt.hist(data, bins=30, density=True, alpha=0.6, color='g')\n",
    "plt.title('Normal Distribution')\n",
    "plt.xlabel('Value')\n",
    "plt.ylabel('Frequency')\n",
    "plt.show()\n"
   ]
  },
  {
   "cell_type": "code",
   "execution_count": 4,
   "id": "e9c991db-3fc1-4550-87bd-bf1537c9d213",
   "metadata": {},
   "outputs": [
    {
     "name": "stdout",
     "output_type": "stream",
     "text": [
      "Matrix:\n",
      "[[1 2 3]\n",
      " [4 5 6]\n",
      " [7 8 9]]\n",
      "Size: 9\n",
      "Shape: (3, 3)\n",
      "Dimensions: 2\n",
      "Rank: 2\n",
      "Eigenvalues: [ 1.61168440e+01 -1.11684397e+00 -3.38433605e-16]\n",
      "Eigenvectors:\n",
      "[[-0.23197069 -0.78583024  0.40824829]\n",
      " [-0.52532209 -0.08675134 -0.81649658]\n",
      " [-0.8186735   0.61232756  0.40824829]]\n"
     ]
    }
   ],
   "source": [
    "import numpy as np\n",
    "\n",
    "matrix = np.array([[1, 2, 3], [4, 5, 6], [7, 8, 9]])\n",
    "\n",
    "print(f\"Matrix:\\n{matrix}\")\n",
    "print(f\"Size: {matrix.size}\")\n",
    "print(f\"Shape: {matrix.shape}\")\n",
    "print(f\"Dimensions: {matrix.ndim}\")\n",
    "\n",
    "rank = np.linalg.matrix_rank(matrix)\n",
    "print(f\"Rank: {rank}\")\n",
    "\n",
    "eigenvalues, eigenvectors = np.linalg.eig(matrix)\n",
    "print(f\"Eigenvalues: {eigenvalues}\")\n",
    "print(f\"Eigenvectors:\\n{eigenvectors}\")\n"
   ]
  },
  {
   "cell_type": "code",
   "execution_count": 5,
   "id": "ff2ec30b-646b-4a1b-81cb-62cb8b7474c3",
   "metadata": {},
   "outputs": [
    {
     "name": "stdout",
     "output_type": "stream",
     "text": [
      "Matrix 1:\n",
      "[[1 2 3]\n",
      " [4 5 6]\n",
      " [7 8 9]]\n",
      "Matrix 2:\n",
      "[[9 8 7]\n",
      " [6 5 4]\n",
      " [3 2 1]]\n",
      "Addition:\n",
      "[[10 10 10]\n",
      " [10 10 10]\n",
      " [10 10 10]]\n",
      "Subtraction:\n",
      "[[-8 -6 -4]\n",
      " [-2  0  2]\n",
      " [ 4  6  8]]\n",
      "Division:\n",
      "[[0.11111111 0.25       0.42857143]\n",
      " [0.66666667 1.         1.5       ]\n",
      " [2.33333333 4.         9.        ]]\n",
      "Multiplication:\n",
      "[[ 30  24  18]\n",
      " [ 84  69  54]\n",
      " [138 114  90]]\n"
     ]
    }
   ],
   "source": [
    "import numpy as np\n",
    "\n",
    "matrix1 = np.array([[1, 2, 3], [4, 5, 6], [7, 8, 9]])\n",
    "matrix2 = np.array([[9, 8, 7], [6, 5, 4], [3, 2, 1]])\n",
    "\n",
    "addition = matrix1 + matrix2\n",
    "subtraction = matrix1 - matrix2\n",
    "division = matrix1 / matrix2\n",
    "multiplication = np.dot(matrix1, matrix2)\n",
    "\n",
    "print(f\"Matrix 1:\\n{matrix1}\")\n",
    "print(f\"Matrix 2:\\n{matrix2}\")\n",
    "print(f\"Addition:\\n{addition}\")\n",
    "print(f\"Subtraction:\\n{subtraction}\")\n",
    "print(f\"Division:\\n{division}\")\n",
    "print(f\"Multiplication:\\n{multiplication}\")\n"
   ]
  },
  {
   "cell_type": "code",
   "execution_count": 6,
   "id": "799250a5-4990-4fd4-b603-a0ba5aa5373b",
   "metadata": {},
   "outputs": [
    {
     "name": "stdout",
     "output_type": "stream",
     "text": [
      "Dot Product: 35\n"
     ]
    }
   ],
   "source": [
    "import numpy as np\n",
    "\n",
    "x = np.array([1, 2, 3])\n",
    "y = np.array([6, 4, 7])\n",
    "\n",
    "dot_product = np.dot(x, y)\n",
    "print(f\"Dot Product: {dot_product}\")\n"
   ]
  },
  {
   "cell_type": "code",
   "execution_count": 7,
   "id": "a47e6385-5a01-498d-90a6-c42d06965dee",
   "metadata": {},
   "outputs": [
    {
     "name": "stdout",
     "output_type": "stream",
     "text": [
      "Solution: x = 0.5, y = -0.0\n"
     ]
    }
   ],
   "source": [
    "import numpy as np\n",
    "\n",
    "A = np.array([[2, 1], [2, -1]])\n",
    "B = np.array([1, 1])\n",
    "\n",
    "solution = np.linalg.solve(A, B)\n",
    "print(f\"Solution: x = {solution[0]}, y = {solution[1]}\")\n"
   ]
  },
  {
   "cell_type": "code",
   "execution_count": null,
   "id": "53b8413b-1174-4e64-942b-44b63026a51a",
   "metadata": {},
   "outputs": [],
   "source": []
  }
 ],
 "metadata": {
  "kernelspec": {
   "display_name": "Python 3 (ipykernel)",
   "language": "python",
   "name": "python3"
  },
  "language_info": {
   "codemirror_mode": {
    "name": "ipython",
    "version": 3
   },
   "file_extension": ".py",
   "mimetype": "text/x-python",
   "name": "python",
   "nbconvert_exporter": "python",
   "pygments_lexer": "ipython3",
   "version": "3.12.4"
  }
 },
 "nbformat": 4,
 "nbformat_minor": 5
}
